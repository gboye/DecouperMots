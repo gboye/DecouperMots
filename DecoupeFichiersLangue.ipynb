{
 "cells": [
  {
   "cell_type": "code",
   "execution_count": 1,
   "metadata": {},
   "outputs": [],
   "source": [
    "import codecs,re"
   ]
  },
  {
   "cell_type": "code",
   "execution_count": 2,
   "metadata": {},
   "outputs": [],
   "source": [
    "nbLot=3"
   ]
  },
  {
   "cell_type": "code",
   "execution_count": 3,
   "metadata": {},
   "outputs": [],
   "source": [
    "def nomFichierLot(numLangue,numLot):\n",
    "    return \"/Users/gilles/ownCloud/Cours/Bordeaux/L3-Morphologie3/Lots/Extraits-%s-Lot%d.text\"%(numLangue,numLot)\n",
    "\n",
    "def getFichierLot(numLangue,numLot):\n",
    "    with codecs.open(nFichier,\"r\",encoding=\"utf8\") as inFile:\n",
    "        lignes=[l.strip() for l in inFile.readlines()]\n",
    "    return lignes"
   ]
  },
  {
   "cell_type": "code",
   "execution_count": 4,
   "metadata": {},
   "outputs": [
    {
     "name": "stdout",
     "output_type": "stream",
     "text": [
      "Langue 01\n",
      "--------------\n",
      "Langue 02\n",
      "--------------\n",
      "Langue 03\n",
      "--------------\n",
      "Langue 04\n",
      "--------------\n",
      "Langue 05\n",
      "--------------\n",
      "Langue 06\n",
      "--------------\n",
      "Langue 07\n",
      "--------------\n",
      "Langue 08\n",
      "--------------\n",
      "Langue 09\n",
      "--------------\n",
      "Langue 10\n",
      "--------------\n",
      "Langue 11\n",
      "--------------\n"
     ]
    }
   ],
   "source": [
    "for langue in [\"%02d\"%(n+1) for n in range(11)]:\n",
    "    print \"Langue\",langue\n",
    "    print \"--------------\"\n",
    "    for num in range(nbLot):\n",
    "        numLot=num+1\n",
    "        nFichier=nomFichierLot(langue,numLot)\n",
    "        texte=\"\\n\".join(getFichierLot(langue,numLot))\n",
    "        textes=re.split(ur\"====(?:FRANCAIS|CHARABIA)====\",texte)\n",
    "        frTexte=[textes[n] for n in range(len(textes)) if n%2==0]\n",
    "        chTexte=[textes[n] for n in range(len(textes)) if n%2!=0]\n",
    "        with codecs.open(nFichier.replace(\".text\",\"-FR.text\"),\"w\",encoding=\"utf8\") as outFile:\n",
    "            outFile.write(\"\\n\".join(frTexte))\n",
    "        with codecs.open(nFichier.replace(\".text\",\"-CH.text\"),\"w\",encoding=\"utf8\") as outFile:\n",
    "            outFile.write(\"\\n\".join(chTexte))\n"
   ]
  },
  {
   "cell_type": "code",
   "execution_count": null,
   "metadata": {},
   "outputs": [],
   "source": []
  }
 ],
 "metadata": {
  "kernelspec": {
   "display_name": "Python 2",
   "language": "python",
   "name": "python2"
  },
  "language_info": {
   "codemirror_mode": {
    "name": "ipython",
    "version": 2
   },
   "file_extension": ".py",
   "mimetype": "text/x-python",
   "name": "python",
   "nbconvert_exporter": "python",
   "pygments_lexer": "ipython2",
   "version": "2.7.11"
  }
 },
 "nbformat": 4,
 "nbformat_minor": 2
}
