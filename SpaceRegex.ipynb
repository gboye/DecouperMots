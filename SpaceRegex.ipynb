{
 "cells": [
  {
   "cell_type": "code",
   "execution_count": null,
   "metadata": {},
   "outputs": [],
   "source": [
    "import codecs,math,re,glob\n",
    "from ToolsMoodleXML2 import *"
   ]
  },
  {
   "cell_type": "code",
   "execution_count": null,
   "metadata": {},
   "outputs": [],
   "source": [
    "nbLots=3\n",
    "nRepLot=\"/Users/gilles/ownCloud/Cours/Bordeaux/L3-Morphologie3/Lots/\"\n",
    "nRepBrut=\"/Users/gilles/ownCloud/Cours/Bordeaux/L3-Morphologie3/Grimm/\""
   ]
  },
  {
   "cell_type": "code",
   "execution_count": null,
   "metadata": {},
   "outputs": [],
   "source": [
    "def nomFichierLot(numLangue,numLot):\n",
    "    return nRepBrut+\"Extraits-%s-Lot%d-brut.text\"%(numLangue,numLot)\n",
    "\n",
    "def getConte(numLangue,lots):\n",
    "    texte=[]\n",
    "    filtrePonct=u\":,;()\\t-’´'`…–‚«»\"+'\"' # ici l'espace n'est pas filtré\n",
    "    if not isinstance(lots, list):\n",
    "        lots=[lots]\n",
    "    for numLot in lots:\n",
    "        with codecs.open(nomFichierLot(numLangue,numLot),\"r\",encoding=\"utf8\") as input:\n",
    "            texteChaine=\"\\n\".join([l.strip() for l in input.readlines() if l.strip()!=\"\" and l.strip()[0]!=\"#\"])\n",
    "        stops=re.escape(u\".?!\")+\"\\n\"\n",
    "        texte.extend([l.strip() for l in re.split(u\"[%s]\"%stops,texteChaine) if l!=\"\"])\n",
    "    tempTexte=[]\n",
    "    for phrase in texte:\n",
    "        tempPhrase=\"\"\n",
    "        for lettreBrute in phrase:\n",
    "            if not lettreBrute in filtrePonct:\n",
    "                tempPhrase+=lettreBrute.lower()\n",
    "#                    if lettreBrute in \"?!\":\n",
    "#                        tempPhrase+=\" \"+lettreBrute\n",
    "        if tempPhrase!=\"\":\n",
    "            tempTexte.append(tempPhrase)\n",
    "    texte=[p.strip() for p in tempTexte]\n",
    "    return texte"
   ]
  },
  {
   "cell_type": "code",
   "execution_count": null,
   "metadata": {},
   "outputs": [],
   "source": [
    "numLangue=\"01\"\n",
    "lot=1\n",
    "texte=getConte(numLangue,1)"
   ]
  },
  {
   "cell_type": "code",
   "execution_count": null,
   "metadata": {},
   "outputs": [],
   "source": [
    "for n,p in enumerate(texte):\n",
    "    print n+1,p "
   ]
  },
  {
   "cell_type": "code",
   "execution_count": null,
   "metadata": {},
   "outputs": [],
   "source": [
    "xmlOutput=MoodleXML()\n",
    "for numLangue in [\"%02d\"%(n+1) for n in range(11)]:\n",
    "    for lot in [1,2,3]:\n",
    "        categorie=u\"Charabia/Espaces/RX/Charabia%s/Lot%d\"%(numLangue,lot)\n",
    "        regexQuestions=XMLSeries(categorie)\n",
    "        texte=getConte(numLangue,lot)\n",
    "        separationExercices=[]\n",
    "        for n,p in enumerate(texte):\n",
    "            consigne=u\"Mettre les espaces aux endroits appropriés de la phrase %d du lot %d.\"%(n+1,lot)\n",
    "            titre=\"Charabia%s Lot%d Phrase%d\"%(numLangue,lot,n+1)\n",
    "            consigneLignes=[consigne,p.replace(\" \",\"\")]\n",
    "            questionLignes=[(\"100\",p,u\"Bravo !\")]\n",
    "        #        print questionLignes\n",
    "        #        textQuestion=u\"<br/>\".join(questionLignes)\n",
    "            separationExercices.append(RegExExercice(titre,consigneLignes,questionLignes,nbHints=3))\n",
    "        for exercice in separationExercices:\n",
    "            regexQuestions.addExercice(exercice)\n",
    "        xmlOutput.addQuiz(regexQuestions.getSeries())"
   ]
  },
  {
   "cell_type": "code",
   "execution_count": null,
   "metadata": {},
   "outputs": [],
   "source": []
  },
  {
   "cell_type": "code",
   "execution_count": null,
   "metadata": {},
   "outputs": [],
   "source": [
    "xmlOutput.getXML()"
   ]
  },
  {
   "cell_type": "code",
   "execution_count": null,
   "metadata": {},
   "outputs": [],
   "source": [
    "with codecs.open(nRepBrut+\"SpaceRegex.xml\", 'w',encoding=\"utf8\") as output:\n",
    "#    print [questions.getClozes()]\n",
    "    output.write(xmlOutput.getXML())"
   ]
  },
  {
   "cell_type": "code",
   "execution_count": null,
   "metadata": {},
   "outputs": [],
   "source": []
  }
 ],
 "metadata": {
  "kernelspec": {
   "display_name": "Python 2",
   "language": "python",
   "name": "python2"
  },
  "language_info": {
   "codemirror_mode": {
    "name": "ipython",
    "version": 2
   },
   "file_extension": ".py",
   "mimetype": "text/x-python",
   "name": "python",
   "nbconvert_exporter": "python",
   "pygments_lexer": "ipython2",
   "version": "2.7.11"
  }
 },
 "nbformat": 4,
 "nbformat_minor": 2
}
