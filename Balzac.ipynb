{
 "cells": [
  {
   "cell_type": "code",
   "execution_count": 15,
   "metadata": {
    "collapsed": true
   },
   "outputs": [],
   "source": [
    "import codecs,re,math,time\n",
    "import numpy as np\n",
    "import itertools as it"
   ]
  },
  {
   "cell_type": "code",
   "execution_count": 2,
   "metadata": {
    "collapsed": true
   },
   "outputs": [],
   "source": [
    "with codecs.open(\"/Users/gilles/ownCloud/Cours/Bordeaux/L3-Morphologie3/Balzac.txt\",\"r\",encoding=\"utf8\") as input:\n",
    "    texteComplet=\" \".join([l.strip() for l in input.readlines()])\n",
    "    "
   ]
  },
  {
   "cell_type": "code",
   "execution_count": 3,
   "metadata": {
    "collapsed": true
   },
   "outputs": [],
   "source": [
    "caracteresFiltres=re.escape(u\" \\n/()[]-:;,=°'_\")\n",
    "chunkStops=re.escape(u\".?!«»\")"
   ]
  },
  {
   "cell_type": "code",
   "execution_count": 4,
   "metadata": {
    "collapsed": true
   },
   "outputs": [],
   "source": [
    "texteFiltre=re.sub(ur\"[%s]\"%caracteresFiltres,\"\",texteComplet).lower()"
   ]
  },
  {
   "cell_type": "code",
   "execution_count": 5,
   "metadata": {
    "collapsed": true
   },
   "outputs": [],
   "source": [
    "chunks=re.split(ur\"[%s0-9]+\"%chunkStops,texteFiltre)"
   ]
  },
  {
   "cell_type": "code",
   "execution_count": 97,
   "metadata": {},
   "outputs": [
    {
     "data": {
      "text/plain": [
       "29967"
      ]
     },
     "execution_count": 97,
     "metadata": {},
     "output_type": "execute_result"
    }
   ],
   "source": [
    "len(chunks)"
   ]
  },
  {
   "cell_type": "code",
   "execution_count": 6,
   "metadata": {},
   "outputs": [
    {
     "name": "stdout",
     "output_type": "stream",
     "text": [
      "50 0.341809323589\n",
      "100 0.64841325458\n",
      "150 0.83131444589\n",
      "200 0.921813995395\n",
      "250 0.962492074615\n",
      "300 0.982147028398\n",
      "350 0.991891080188\n",
      "400 0.99559515467\n",
      "450 0.99736376681\n",
      "500 0.998598458304\n",
      "550 0.999032268829\n",
      "600 0.999499449394\n",
      "650 0.999532819435\n",
      "700 0.999566189475\n",
      "750 0.999766409717\n",
      "800 0.999866519838\n",
      "850 0.999866519838\n",
      "900 0.999933259919\n",
      "950 0.99996662996\n"
     ]
    }
   ],
   "source": [
    "for seuil in range(50,1000,50):\n",
    "    print seuil, float(sum([1 for c in chunks if len(c)<seuil]))/len(chunks)"
   ]
  },
  {
   "cell_type": "raw",
   "metadata": {},
   "source": [
    "class Trie():\n",
    "    def _init_(self,orient):\n",
    "        trie={}\n",
    "        freqs={}\n",
    "    def addRight(self,chaine):\n",
    "        trieC=self.trie\n",
    "        freqsC=self.freqs\n",
    "        for c in chaine:\n",
    "            if not c in trieC:\n",
    "                trieC[c]={}\n",
    "                freqsC[c]=0\n",
    "            trieC=trieC[c]\n",
    "            fre\n",
    "            \n",
    "        "
   ]
  },
  {
   "cell_type": "code",
   "execution_count": null,
   "metadata": {
    "collapsed": true
   },
   "outputs": [],
   "source": [
    "class TrieNode(object):\n",
    "    \"\"\"\n",
    "    Our trie node implementation. Very basic. but does the job\n",
    "    \"\"\"\n",
    "    \n",
    "    def __init__(self, char):\n",
    "        self.char = char\n",
    "        self.children = []\n",
    "        # Is it the last character of the word.`\n",
    "        self.word_finished = False\n",
    "        # How many times this character appeared in the addition process\n",
    "        self.counter = 1\n",
    "    \n",
    "\n",
    "def add(root, word):\n",
    "    \"\"\"\n",
    "    Adding a word in the trie structure\n",
    "    \"\"\"\n",
    "    node = root\n",
    "    for char in word:\n",
    "        found_in_child = False\n",
    "        # Search for the character in the children of the present `node`\n",
    "        for child in node.children:\n",
    "            if child.char == char:\n",
    "                # We found it, increase the counter by 1 to keep track that another\n",
    "                # word has it as well\n",
    "                child.counter += 1\n",
    "                # And point the node to the child that contains this char\n",
    "                node = child\n",
    "                found_in_child = True\n",
    "                break\n",
    "        # We did not find it so add a new chlid\n",
    "        if not found_in_child:\n",
    "            new_node = TrieNode(char)\n",
    "            node.children.append(new_node)\n",
    "            # And then point node to the new child\n",
    "            node = new_node\n",
    "    # Everything finished. Mark it as the end of a word.\n",
    "    node.word_finished = True\n",
    "\n",
    "\n",
    "def find_prefix(root, prefix):\n",
    "    \"\"\"\n",
    "    Check and return \n",
    "      1. If the prefix exsists in any of the words we added so far\n",
    "      2. If yes then how may words actually have the prefix\n",
    "    \"\"\"\n",
    "    node = root\n",
    "    # If the root node has no children, then return False.\n",
    "    # Because it means we are trying to search in an empty trie\n",
    "    if not root.children:\n",
    "        return False, 0\n",
    "    for char in prefix:\n",
    "        char_not_found = True\n",
    "        # Search through all the children of the present `node`\n",
    "        for child in node.children:\n",
    "            if child.char == char:\n",
    "                # We found the char existing in the child.\n",
    "                char_not_found = False\n",
    "                # Assign node as the child containing the char and break\n",
    "                node = child\n",
    "                break\n",
    "        # Return False anyway when we did not find a char.\n",
    "        if char_not_found:\n",
    "            return False, 0\n",
    "    # Well, we are here means we have found the prefix. Return true to indicate that\n",
    "    # And also the counter of the last node. This indicates how many words have this\n",
    "    # prefix\n",
    "    return True, node.counter"
   ]
  },
  {
   "cell_type": "code",
   "execution_count": null,
   "metadata": {},
   "outputs": [],
   "source": [
    "righTrie=TrieNode('*')\n",
    "leftTrie=TrieNode('*')\n",
    "nbChunks=5000\n",
    "testTexte=chunks[:nbChunks]\n",
    "\n",
    "for chunk in testTexte:\n",
    "    for pos in range(len(chunk)):\n",
    "#        print chunk[pos:]\n",
    "#        print     \n",
    "        add(righTrie, chunk[pos:])\n",
    "#        add(leftTrie, chunk[::-1])"
   ]
  },
  {
   "cell_type": "code",
   "execution_count": 84,
   "metadata": {},
   "outputs": [
    {
     "name": "stdout",
     "output_type": "stream",
     "text": [
      "(True, 68)\n"
     ]
    }
   ],
   "source": [
    "print(find_prefix(righTrie, 'balza'))"
   ]
  },
  {
   "cell_type": "code",
   "execution_count": 87,
   "metadata": {
    "collapsed": true
   },
   "outputs": [],
   "source": [
    "def minWidth(cuts,chaine,seuil=2):\n",
    "    prevCut=0\n",
    "    for c in cuts:\n",
    "        if c-prevCut>seuil:\n",
    "            prevCut=c\n",
    "            continue\n",
    "        else:\n",
    "            return False\n",
    "    if len(chaine)-prevCut>seuil:\n",
    "        return True\n",
    "    else:\n",
    "        return False\n",
    "\n",
    "def printCut(cuts,chaine):\n",
    "    print chaine[0:cuts[0]]\n",
    "    for n,c in enumerate(cuts[:-1]):\n",
    "        print chaine[cuts[n]:cuts[n+1]]\n",
    "    print chaine[cuts[-1]:]\n",
    "    \n",
    "def scoreCut(cuts,chaine):\n",
    "    score=find_prefix(righTrie,chaine[0:cuts[0]])[1]\n",
    "    for n,c in enumerate(cuts[:-1]):\n",
    "#        print chaine[cuts[n]:cuts[n+1]]\n",
    "        score+=find_prefix(righTrie,chaine[cuts[n]:cuts[n+1]])[1]\n",
    "#    print chaine[cuts[-1]:]\n",
    "    score+=find_prefix(righTrie,chaine[cuts[-1]:])[1]\n",
    "    return score"
   ]
  },
  {
   "cell_type": "code",
   "execution_count": 91,
   "metadata": {},
   "outputs": [
    {
     "data": {
      "text/plain": [
       "True"
      ]
     },
     "execution_count": 91,
     "metadata": {},
     "output_type": "execute_result"
    }
   ],
   "source": [
    "minWidth([5,8],test)"
   ]
  },
  {
   "cell_type": "code",
   "execution_count": 96,
   "metadata": {},
   "outputs": [
    {
     "name": "stdout",
     "output_type": "stream",
     "text": [
      "lepetithonorénefutpasunenfantprodigeilnannonçapasprématurémentquilferaitlacomédiehumaine\n",
      "1 29 127\n",
      "lep\n",
      "eti\n",
      "tho\n",
      "norénefutpasunenfantprodigeilnannonçapasprématurémentquilferaitlacomédiehumaine\n",
      "\n",
      "1 29 129\n",
      "lep\n",
      "eti\n",
      "thonorénefutpasunenfantprodigeilnannonçapasprématurémentquilferaitlacomédie\n",
      "humaine\n",
      "\n",
      "1 29 132\n",
      "lep\n",
      "eti\n",
      "thonorénefutpasunenfantprodigeilnannonçapasprématurémentquilferaitlacomédiehu\n",
      "maine\n",
      "\n",
      "1 29 142\n",
      "lep\n",
      "eti\n",
      "thonorénefutpasunenfantprodigeilnannonçapasprématurémentquilferaitlacomédiehum\n",
      "aine\n",
      "\n",
      "1 29 205\n",
      "lep\n",
      "eti\n",
      "thonorénefutpasunenfantprodigeilnannonçapasprématurémentquilferaitlacomédiehuma\n",
      "ine\n",
      "\n",
      "1 29 286\n",
      "lep\n",
      "etithonorénefutpas\n",
      "une\n",
      "nfantprodigeilnannonçapasprématurémentquilferaitlacomédiehumaine\n",
      "\n",
      "1 29 306\n",
      "lep\n",
      "etithonorénefutpasunenf\n",
      "ant\n",
      "prodigeilnannonçapasprématurémentquilferaitlacomédiehumaine\n",
      "\n",
      "1 29 575\n",
      "lep\n",
      "etithonorénefutpasunenfantprodigeilnannonçapasprématurém\n",
      "ent\n",
      "quilferaitlacomédiehumaine\n",
      "\n",
      "1 29 715\n",
      "lepetithonorénefutpasunenfantprodigeilnannonçapasprématurém\n",
      "ent\n",
      "qui\n",
      "lferaitlacomédiehumaine\n",
      "\n"
     ]
    }
   ],
   "source": [
    "test=testTexte[5]\n",
    "nbParties=3\n",
    "print test\n",
    "max=0\n",
    "for c in it.combinations(range(1,len(test)),nbParties):\n",
    "    if minWidth(c,test):\n",
    "        score=scoreCut(c,test)\n",
    "        if score>max:\n",
    "            print a,b, scoreCut(c,test)\n",
    "            max=score\n",
    "            printCut(c,test)\n",
    "            print\n",
    "#    print test[:a], find_prefix(righTrie, test[:a])\n",
    "#    print test[a:b], find_prefix(righTrie, test[a:b])\n",
    "#    print test[b:], find_prefix(righTrie, test[b:])\n",
    "#    time.sleep(1)"
   ]
  },
  {
   "cell_type": "code",
   "execution_count": null,
   "metadata": {
    "collapsed": true
   },
   "outputs": [],
   "source": [
    "from math import log\n",
    "\n",
    "# Build a cost dictionary, assuming Zipf's law and cost = -math.log(probability).\n",
    "words = open(\"words-by-frequency.txt\").read().split()\n",
    "wordcost = dict((k, log((i+1)*log(len(words)))) for i,k in enumerate(words))\n",
    "maxword = max(len(x) for x in words)\n",
    "\n",
    "def infer_spaces(s):\n",
    "    \"\"\"Uses dynamic programming to infer the location of spaces in a string\n",
    "    without spaces.\"\"\"\n",
    "\n",
    "    # Find the best match for the i first characters, assuming cost has\n",
    "    # been built for the i-1 first characters.\n",
    "    # Returns a pair (match_cost, match_length).\n",
    "    def best_match(i):\n",
    "        candidates = enumerate(reversed(cost[max(0, i-maxword):i]))\n",
    "        return min((c + wordcost.get(s[i-k-1:i], 9e999), k+1) for k,c in candidates)\n",
    "\n",
    "    # Build the cost array.\n",
    "    cost = [0]\n",
    "    for i in range(1,len(s)+1):\n",
    "        c,k = best_match(i)\n",
    "        cost.append(c)\n",
    "\n",
    "    # Backtrack to recover the minimal-cost string.\n",
    "    out = []\n",
    "    i = len(s)\n",
    "    while i>0:\n",
    "        c,k = best_match(i)\n",
    "        assert c == cost[i]\n",
    "        out.append(s[i-k:i])\n",
    "        i -= k\n",
    "\n",
    "    return \" \".join(reversed(out))"
   ]
  }
 ],
 "metadata": {
  "kernelspec": {
   "display_name": "Python 2",
   "language": "python",
   "name": "python2"
  },
  "language_info": {
   "codemirror_mode": {
    "name": "ipython",
    "version": 2
   },
   "file_extension": ".py",
   "mimetype": "text/x-python",
   "name": "python",
   "nbconvert_exporter": "python",
   "pygments_lexer": "ipython2",
   "version": "2.7.11"
  }
 },
 "nbformat": 4,
 "nbformat_minor": 1
}
